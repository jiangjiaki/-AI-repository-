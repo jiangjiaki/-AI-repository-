{
  "nbformat": 4,
  "nbformat_minor": 0,
  "metadata": {
    "colab": {
      "name": "keras tutorial 2.ipynb",
      "provenance": []
    },
    "kernelspec": {
      "name": "python3",
      "display_name": "Python 3"
    }
  },
  "cells": [
    {
      "cell_type": "code",
      "metadata": {
        "id": "0m6EppI4idQQ",
        "colab_type": "code",
        "colab": {
          "base_uri": "https://localhost:8080/",
          "height": 748
        },
        "outputId": "5856248f-a3c5-4ca5-82ca-0c2938c6239d"
      },
      "source": [
        "import keras\n",
        "from keras.models import Sequential\n",
        "from keras.layers import Dense, Dropout, Activation\n",
        "from keras.optimizers import SGD\n",
        "\n",
        "# Generate dummy data\n",
        "import numpy as np\n",
        "x_train = np.random.random((1000, 10))\n",
        "y_train = keras.utils.to_categorical(np.random.randint(10, size=(1000, 1)), num_classes=10)\n",
        "x_test = np.random.random((100, 10))\n",
        "y_test = keras.utils.to_categorical(np.random.randint(10, size=(100, 1)), num_classes=10)\n",
        "\n",
        "model = Sequential()\n",
        "model.add(Dense(64, activation='relu', input_dim=10))\n",
        "model.add(Dense(64, activation='relu'))\n",
        "model.add(Dense(10, activation='softmax'))\n",
        "sgd = SGD(lr=0.01, decay=1e-6, momentum=0.9, nesterov=True)\n",
        "model.compile(loss='categorical_crossentropy', optimizer=sgd, metrics=['accuracy'])\n",
        "\n",
        "model.fit(x_train, y_train, epochs=20, batch_size=128)\n",
        "score = model.evaluate(x_test, y_test, batch_size=128)\n",
        "print(score)"
      ],
      "execution_count": 1,
      "outputs": [
        {
          "output_type": "stream",
          "text": [
            "Using TensorFlow backend.\n"
          ],
          "name": "stderr"
        },
        {
          "output_type": "stream",
          "text": [
            "Epoch 1/20\n",
            "1000/1000 [==============================] - 0s 206us/step - loss: 2.3271 - accuracy: 0.0950\n",
            "Epoch 2/20\n",
            "1000/1000 [==============================] - 0s 14us/step - loss: 2.3123 - accuracy: 0.0950\n",
            "Epoch 3/20\n",
            "1000/1000 [==============================] - 0s 15us/step - loss: 2.3018 - accuracy: 0.1100\n",
            "Epoch 4/20\n",
            "1000/1000 [==============================] - 0s 16us/step - loss: 2.2989 - accuracy: 0.1180\n",
            "Epoch 5/20\n",
            "1000/1000 [==============================] - 0s 16us/step - loss: 2.2967 - accuracy: 0.1170\n",
            "Epoch 6/20\n",
            "1000/1000 [==============================] - 0s 14us/step - loss: 2.2960 - accuracy: 0.1220\n",
            "Epoch 7/20\n",
            "1000/1000 [==============================] - 0s 14us/step - loss: 2.2944 - accuracy: 0.1290\n",
            "Epoch 8/20\n",
            "1000/1000 [==============================] - 0s 15us/step - loss: 2.2931 - accuracy: 0.1270\n",
            "Epoch 9/20\n",
            "1000/1000 [==============================] - 0s 14us/step - loss: 2.2921 - accuracy: 0.1330\n",
            "Epoch 10/20\n",
            "1000/1000 [==============================] - 0s 16us/step - loss: 2.2911 - accuracy: 0.1350\n",
            "Epoch 11/20\n",
            "1000/1000 [==============================] - 0s 14us/step - loss: 2.2905 - accuracy: 0.1400\n",
            "Epoch 12/20\n",
            "1000/1000 [==============================] - 0s 13us/step - loss: 2.2897 - accuracy: 0.1380\n",
            "Epoch 13/20\n",
            "1000/1000 [==============================] - 0s 13us/step - loss: 2.2885 - accuracy: 0.1420\n",
            "Epoch 14/20\n",
            "1000/1000 [==============================] - 0s 14us/step - loss: 2.2878 - accuracy: 0.1410\n",
            "Epoch 15/20\n",
            "1000/1000 [==============================] - 0s 15us/step - loss: 2.2870 - accuracy: 0.1350\n",
            "Epoch 16/20\n",
            "1000/1000 [==============================] - 0s 14us/step - loss: 2.2861 - accuracy: 0.1430\n",
            "Epoch 17/20\n",
            "1000/1000 [==============================] - 0s 14us/step - loss: 2.2858 - accuracy: 0.1450\n",
            "Epoch 18/20\n",
            "1000/1000 [==============================] - 0s 13us/step - loss: 2.2849 - accuracy: 0.1450\n",
            "Epoch 19/20\n",
            "1000/1000 [==============================] - 0s 14us/step - loss: 2.2840 - accuracy: 0.1450\n",
            "Epoch 20/20\n",
            "1000/1000 [==============================] - 0s 13us/step - loss: 2.2834 - accuracy: 0.1440\n",
            "100/100 [==============================] - 0s 242us/step\n",
            "[2.3243141174316406, 0.05999999865889549]\n"
          ],
          "name": "stdout"
        }
      ]
    }
  ]
}