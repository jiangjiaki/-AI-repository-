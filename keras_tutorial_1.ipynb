{
  "nbformat": 4,
  "nbformat_minor": 0,
  "metadata": {
    "colab": {
      "name": "keras tutorial 1.ipynb",
      "provenance": []
    },
    "kernelspec": {
      "name": "python3",
      "display_name": "Python 3"
    }
  },
  "cells": [
    {
      "cell_type": "code",
      "metadata": {
        "id": "C6LluYSizVUF",
        "colab_type": "code",
        "colab": {
          "base_uri": "https://localhost:8080/",
          "height": 493
        },
        "outputId": "00b6627d-299d-41a8-f37e-7b4d80095145"
      },
      "source": [
        "import keras\n",
        "from keras.models import Sequential\n",
        "from keras.layers import Dense\n",
        "\n",
        "import numpy as np\n",
        "data = np.random.random((1000, 10)) #隨機產生1000筆資料，每筆資料1包含十個float數字\n",
        "labels = np.random.randint(2, size=(1000, 1)) #隨機產生1000筆資料，每筆資料上限為2(意思就是0 或 1)\n",
        "print(np.shape(data))\n",
        "print(data[0])\n",
        "print(np.shape(labels))\n",
        "print(labels[0])\n",
        "\n",
        "model = Sequential()\n",
        "model.add(Dense(32, activation='relu', input_dim=10))\n",
        "model.add(Dense(1, activation='sigmoid'))\n",
        "model.compile(optimizer='rmsprop', loss='binary_crossentropy', metrics=['accuracy'])\n",
        "\n",
        "model.fit(data, labels, epochs=10, batch_size=32)\n",
        "\n",
        "score=model.evaluate(data, labels)\n",
        "print(score[1])"
      ],
      "execution_count": 1,
      "outputs": [
        {
          "output_type": "stream",
          "text": [
            "Using TensorFlow backend.\n"
          ],
          "name": "stderr"
        },
        {
          "output_type": "stream",
          "text": [
            "(1000, 10)\n",
            "[0.31365525 0.67453102 0.80805977 0.39782548 0.41907053 0.50684858\n",
            " 0.52737489 0.28533425 0.34492263 0.15718206]\n",
            "(1000, 1)\n",
            "[0]\n",
            "Epoch 1/10\n",
            "1000/1000 [==============================] - 0s 313us/step - loss: 0.6964 - accuracy: 0.5180\n",
            "Epoch 2/10\n",
            "1000/1000 [==============================] - 0s 38us/step - loss: 0.6943 - accuracy: 0.5120\n",
            "Epoch 3/10\n",
            "1000/1000 [==============================] - 0s 38us/step - loss: 0.6932 - accuracy: 0.5160\n",
            "Epoch 4/10\n",
            "1000/1000 [==============================] - 0s 36us/step - loss: 0.6924 - accuracy: 0.5260\n",
            "Epoch 5/10\n",
            "1000/1000 [==============================] - 0s 39us/step - loss: 0.6916 - accuracy: 0.5360\n",
            "Epoch 6/10\n",
            "1000/1000 [==============================] - 0s 40us/step - loss: 0.6906 - accuracy: 0.5400\n",
            "Epoch 7/10\n",
            "1000/1000 [==============================] - 0s 43us/step - loss: 0.6904 - accuracy: 0.5470\n",
            "Epoch 8/10\n",
            "1000/1000 [==============================] - 0s 41us/step - loss: 0.6895 - accuracy: 0.5370\n",
            "Epoch 9/10\n",
            "1000/1000 [==============================] - 0s 42us/step - loss: 0.6891 - accuracy: 0.5520\n",
            "Epoch 10/10\n",
            "1000/1000 [==============================] - 0s 39us/step - loss: 0.6884 - accuracy: 0.5610\n",
            "1000/1000 [==============================] - 0s 38us/step\n",
            "0.5450000166893005\n"
          ],
          "name": "stdout"
        }
      ]
    },
    {
      "cell_type": "code",
      "metadata": {
        "id": "lSpIR2Jiz4ci",
        "colab_type": "code",
        "colab": {}
      },
      "source": [
        ""
      ],
      "execution_count": 0,
      "outputs": []
    }
  ]
}